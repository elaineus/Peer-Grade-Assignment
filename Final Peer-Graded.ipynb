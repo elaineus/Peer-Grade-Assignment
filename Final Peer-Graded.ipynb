{
    "cells": [
        {
            "cell_type": "markdown",
            "id": "24d66a97-4eb6-413a-a621-2ae1e6ffaccd",
            "metadata": {},
            "source": "Exercise 2 - Create a markdown cell with the title of the notebook. (1 pt)"
        },
        {
            "cell_type": "markdown",
            "id": "ddf54ac7-c728-4851-9e50-96830ce92cb6",
            "metadata": {},
            "source": "# Peer-graded Assignment"
        },
        {
            "cell_type": "markdown",
            "id": "d36d1389-c7f5-4c1a-bb4b-2c7f601c3a0f",
            "metadata": {},
            "source": "Exercise 3 - Create a markdown cell for an introduction. (1 pt)"
        },
        {
            "cell_type": "markdown",
            "id": "42cbc7e0-e9e7-4fb9-bc99-6f032ed3d665",
            "metadata": {},
            "source": "**This is the final assignment for the topic \"Tools for Data Science\". Each exercise will be followed by the answer in the same or following cell.**"
        },
        {
            "cell_type": "markdown",
            "id": "b1b841eb-0daa-4f55-aec8-40dd72869d8e",
            "metadata": {},
            "source": "Exercise 4 - Create a markdown cell to list data science languages. (3 pts)\n\n- Python\n- R\n- SQL"
        },
        {
            "cell_type": "markdown",
            "id": "86197a5a-2e7c-4812-974b-1f7f240fa790",
            "metadata": {},
            "source": "Exercise 5 - Create a markdown cell to list data science libraries. (3 pts)\n\n- NumPy\n- Pandas\n- Seaborn\n- PyTorch\n- Scikit-learn\n- TensorFlow"
        },
        {
            "cell_type": "markdown",
            "id": "6f3c09fc-93d6-4fd5-8f1e-39510c687c4b",
            "metadata": {},
            "source": "Exercise 6 - Create a markdown cell with a table of Data Science tools. (3 pts)\n\n- Python\n- R\n- SQL\n- Jupyter Notebook \n- Apache Hadoop\n- Apache Spark "
        },
        {
            "cell_type": "markdown",
            "id": "b1452b27-30e6-44ac-b51b-e34507b1d322",
            "metadata": {},
            "source": "Exercise 7 - Create a markdown cell introducing arithmetic expression examples. (1 pt)\n\n- Addition: To add two numbers, use '+'\n- Subtraction: To subtract one number from another, use '-'\n- Multiplication: To multiply two numbers, use \"*'\n- Division: To divide one number by another, use '/'\n\nFor example,"
        },
        {
            "cell_type": "code",
            "execution_count": 1,
            "id": "9e1618c2-36b2-43f6-833e-a0ccfe881cc2",
            "metadata": {},
            "outputs": [
                {
                    "data": {
                        "text/html": "2",
                        "text/latex": "2",
                        "text/markdown": "2",
                        "text/plain": "[1] 2"
                    },
                    "metadata": {},
                    "output_type": "display_data"
                }
            ],
            "source": "1+1"
        },
        {
            "cell_type": "code",
            "execution_count": 2,
            "id": "86ccd5e6-1715-443d-bb26-70b3820a9085",
            "metadata": {},
            "outputs": [
                {
                    "data": {
                        "text/html": "0",
                        "text/latex": "0",
                        "text/markdown": "0",
                        "text/plain": "[1] 0"
                    },
                    "metadata": {},
                    "output_type": "display_data"
                }
            ],
            "source": "2-2"
        },
        {
            "cell_type": "code",
            "execution_count": 3,
            "id": "2defc240-24f1-4ca7-a82e-c091cdd13629",
            "metadata": {},
            "outputs": [
                {
                    "data": {
                        "text/html": "9",
                        "text/latex": "9",
                        "text/markdown": "9",
                        "text/plain": "[1] 9"
                    },
                    "metadata": {},
                    "output_type": "display_data"
                }
            ],
            "source": "3*3"
        },
        {
            "cell_type": "code",
            "execution_count": 4,
            "id": "c46d0f3c-db38-4915-9fbf-33f944ad2789",
            "metadata": {},
            "outputs": [
                {
                    "data": {
                        "text/html": "1",
                        "text/latex": "1",
                        "text/markdown": "1",
                        "text/plain": "[1] 1"
                    },
                    "metadata": {},
                    "output_type": "display_data"
                }
            ],
            "source": "4/4"
        },
        {
            "cell_type": "markdown",
            "id": "cf8b9668-39be-49da-ab63-c954c6fb3eab",
            "metadata": {},
            "source": "Exercise 8 - Create a code cell to multiply and add numbers.(2 pts)"
        },
        {
            "cell_type": "code",
            "execution_count": 5,
            "id": "61d2d1f5-7875-47d2-a287-2ad3be23fe23",
            "metadata": {},
            "outputs": [
                {
                    "ename": "ERROR",
                    "evalue": "Error in print.default(\"The result is\", result): invalid 'digits' argument\n",
                    "output_type": "error",
                    "traceback": [
                        "Error in print.default(\"The result is\", result): invalid 'digits' argument\nTraceback:\n",
                        "1. print(\"The result is\", result)",
                        "2. print.default(\"The result is\", result)"
                    ]
                }
            ],
            "source": "# Assign values to variables\nnum1 = 10\nnum2 = 10\n\n#multiply and add the values\nresult = num1*num2 + 10\n\n#print the results\nprint(\"The result is\", result)"
        },
        {
            "cell_type": "markdown",
            "id": "6e073341-42a7-44a2-a4d9-f70bddac6916",
            "metadata": {},
            "source": "Exercise 9 - Create a code cell to convert minutes to hours. (2 pts)"
        },
        {
            "cell_type": "code",
            "execution_count": 14,
            "id": "ba787216-e756-45be-bf52-a524b3852b8d",
            "metadata": {},
            "outputs": [
                {
                    "name": "stdout",
                    "output_type": "stream",
                    "text": "It is equivalent to  2.0 hrs\n"
                }
            ],
            "source": "# Assign values to variables \nnum1 = 120 \nnum2 = 60\n\n#divide num1 with num2\nresult = num1/num2\n\n#print the results\nprint (\"It is equivalent to \", result, \"hrs\")"
        },
        {
            "cell_type": "markdown",
            "id": "e3db24a0-54c8-406c-9dbd-ab07114ddef4",
            "metadata": {},
            "source": "Exercise 10 -Insert a markdown cell to list Objectives. (3 pts)"
        },
        {
            "cell_type": "markdown",
            "id": "9a0c038e-ad35-4e55-84e4-0719887f7a74",
            "metadata": {},
            "source": "The objectives of this assignment are\n\n- Create a Jupyter Notebook\n\n- Insert code and markdown cells\n\n- Share my notebook through GitHub"
        },
        {
            "cell_type": "markdown",
            "id": "39805315-45f8-41fb-80ba-b452fac6958c",
            "metadata": {},
            "source": "Exercise 11 - Create a markdown cell to indicate the Author\u2019s name. (2 pts)\n\n**Author's name: El**"
        },
        {
            "cell_type": "markdown",
            "id": "7085be66-3455-41ff-bfb0-5912137c691d",
            "metadata": {},
            "source": "Exercise 12 - Share your notebook through GitHub (3 pts)"
        },
        {
            "cell_type": "markdown",
            "id": "c26abf79-760e-4c26-86d9-189160dea7b8",
            "metadata": {},
            "source": "Exercise 13 - Take a screenshot of the first page of the notebook. (1 pt)"
        }
    ],
    "metadata": {
        "kernelspec": {
            "display_name": "R 3.6 with Spark",
            "language": "R",
            "name": "r"
        },
        "language_info": {
            "codemirror_mode": "r",
            "file_extension": ".r",
            "mimetype": "text/x-r-source",
            "name": "R",
            "pygments_lexer": "r",
            "version": "3.6.3"
        }
    },
    "nbformat": 4,
    "nbformat_minor": 5
}